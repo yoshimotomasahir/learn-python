{
 "cells": [
  {
   "cell_type": "markdown",
   "metadata": {},
   "source": [
    "# 準備\n",
    "最初に下の箱の中で「Shift+Enter」を押す。"
   ]
  },
  {
   "cell_type": "code",
   "execution_count": null,
   "metadata": {
    "slideshow": {
     "slide_type": "-"
    }
   },
   "outputs": [],
   "source": [
    "import matplotlib.pyplot as plt\n",
    "import numpy as np\n",
    "import pickle\n",
    "from scipy import stats\n",
    "import scipy\n",
    "import fit\n"
   ]
  },
  {
   "cell_type": "markdown",
   "metadata": {},
   "source": [
    "# 第一回\n",
    "## 正規分布のヒストグラム"
   ]
  },
  {
   "cell_type": "code",
   "execution_count": null,
   "metadata": {},
   "outputs": [],
   "source": [
    "np.random.seed(0)\n",
    "arr = np.random.randn(10000)\n",
    "label=\"Entries {}\\nMean {:.6f}\\nStd Dev {:.3f}\".format(len(arr),np.mean(arr),np.std(arr))\n",
    "plt.hist(arr,bins=50,range=[-5,5],label=label)\n",
    "plt.title(\"Gaussian Histgram ($\\\\sigma$ = 1)\")\n",
    "plt.legend()\n",
    "plt.show()\n",
    "plt.savefig(\"hist.pdf\")\n",
    "plt.close()\n"
   ]
  },
  {
   "cell_type": "markdown",
   "metadata": {},
   "source": [
    "グラフを作る時の作法を少し書き換える"
   ]
  },
  {
   "cell_type": "code",
   "execution_count": null,
   "metadata": {},
   "outputs": [],
   "source": [
    "np.random.seed(0)\n",
    "arr = np.random.randn(10000)\n",
    "label=\"Entries {}\\nMean {:.6f}\\nStd Dev {:.3f}\".format(len(arr),np.mean(arr),np.std(arr))\n",
    "\n",
    "fig, ax = plt.subplots(nrows=1,ncols=1,)\n",
    "ax.hist(arr,bins=50,range=[-5,5],label=label)\n",
    "ax.set_title(\"Gaussian Histgram ($\\\\sigma$ = 1)\")\n",
    "plt.legend()\n",
    "plt.show()\n",
    "plt.savefig(\"hist.pdf\")\n"
   ]
  },
  {
   "cell_type": "markdown",
   "metadata": {},
   "source": [
    "## 統計の基本\n",
    "標本平均 Mean\n",
    "$$\n",
    "\\bar{x} = \\frac 1 N \\sum_{i = 1}^N x_i = \\frac{x_1+x_2 + \\cdots x_N}{N}\n",
    "$$\n",
    "母平均\n",
    "$$\n",
    "\\mu = \\lim_{N\\to\\infty} \\frac 1 N \\sum_{i = 1}^N x_i\n",
    "$$\n",
    "(不偏)標本分散 StdDev\n",
    "$$\n",
    "s^2 = \\frac 1 {N-1}\\sum_{i = 1}^N (x_i-\\bar{x})^2\n",
    "$$\n",
    "母分散\n",
    "$$\n",
    "\\sigma^2 = \\lim_{N\\to\\infty}\\frac 1 N \\sum_{i = 1}^N (x_i-\\mu)^2\n",
    "$$\n",
    "RMS(二乗平均平方根)\n",
    "$$\n",
    "RMS=\\sqrt{\\frac 1 N \\sum_{i=1}^N x_i^2}\n",
    "$$"
   ]
  },
  {
   "cell_type": "code",
   "execution_count": null,
   "metadata": {},
   "outputs": [],
   "source": [
    "print(\"Entries         :\", len(arr))\n",
    "print(\"Mean            :\", \"%.5f\" % np.mean(arr))\n",
    "print(\"StdDev          :\", \"%.4f\" % np.std(arr))\n",
    "print(\"MeanError       :\", \"%.6f\" % stats.sem(arr))\n",
    "print(\"Error of StdDev :\", \"%.6f\" % (np.std(arr)/np.sqrt(2.0*len(arr))))"
   ]
  },
  {
   "cell_type": "markdown",
   "metadata": {},
   "source": [
    "## 正規分布\n",
    "$$\n",
    "f(x)= \\frac 1 {\\sqrt{2 \\pi \\sigma^2}} \\exp \\left( -\\frac{(x-\\mu)^2}{2\\sigma^2} \\right)\n",
    "$$"
   ]
  },
  {
   "cell_type": "code",
   "execution_count": null,
   "metadata": {},
   "outputs": [],
   "source": [
    "def normal_dist(x, mu, sigma):\n",
    "    return 1/ (sigma * np.sqrt(2 * np.pi)) *np.exp( - (x - mu)**2 / (2 * sigma**2)) \n",
    "\n",
    "arr = np.arange(-10,10,0.1)\n",
    "plt.plot(arr,normal_dist(arr,0,1),label=r'$\\mu$=0.0, $\\sigma$=1.0',linestyle=\"-\",color='black')\n",
    "plt.plot(arr,normal_dist(arr,0,3),label=r'$\\mu$=0.0, $\\sigma$=3.0',linestyle=\"--\",color='red')\n",
    "plt.plot(arr,normal_dist(arr,1,0.5),label=r'$\\mu$=1.0, $\\sigma$=0.5',linestyle=\":\",color='green')\n",
    "plt.plot(arr,normal_dist(arr,-2,2.0),label=r'$\\mu$=-2.0, $\\sigma$=2.0',linestyle=\"-.\",color='blue')\n",
    "plt.legend()\n",
    "plt.xlim(-10,10)\n",
    "plt.xlabel(\"x\")\n",
    "plt.ylim(0,1)\n",
    "plt.ylabel(\"f(x)\")\n",
    "plt.show()\n"
   ]
  },
  {
   "cell_type": "markdown",
   "metadata": {},
   "source": [
    "正規分布の場合の、標本平均 $\\bar{x}$に対する誤差\n",
    "$$\n",
    "\\delta \\bar{x} = \\frac {s}{\\sqrt{N}}\n",
    "$$\n",
    "標本の標準偏差 $s$に対する誤差\n",
    "$$\n",
    "\\delta s = \\frac {s}{\\sqrt{2N}}\n",
    "$$\n",
    "\n"
   ]
  },
  {
   "cell_type": "code",
   "execution_count": null,
   "metadata": {},
   "outputs": [],
   "source": [
    "np.random.seed(0)\n",
    "arr = np.random.randn(10000)\n",
    "label=\"Entries {}\\nMean {:.6f}\\nStd Dev {:.3f}\".format(len(arr),np.mean(arr),np.std(arr))\n",
    "\n",
    "fig, ax = plt.subplots(nrows=1,ncols=1,)\n",
    "ax.hist(arr,bins=50,range=[-5,5],label=label, histtype='step')\n",
    "ax.set_title(\"Gaussian Histgram ($\\\\sigma$ = 1)\")\n",
    "plt.xlabel(\"x\")\n",
    "plt.ylabel(\"Entries\")\n",
    "plt.legend()\n",
    "plt.show()\n",
    "plt.savefig(\"hist.pdf\")\n"
   ]
  },
  {
   "cell_type": "code",
   "execution_count": null,
   "metadata": {},
   "outputs": [],
   "source": [
    "obj = fit.fit_gaussian(arr, 50, -5, 5)\n",
    "print(obj)"
   ]
  },
  {
   "cell_type": "code",
   "execution_count": null,
   "metadata": {},
   "outputs": [],
   "source": [
    "np.random.seed(0)\n",
    "chi2=[]\n",
    "df = 30\n",
    "\n",
    "# Entries 2000 の fitting を 2000回試行する やや時間がかかる\n",
    "for _ in range(2000):\n",
    "    arr = np.random.randn(2000)\n",
    "    obj = fit.fit_gaussian(arr, df+3, -2, 2, verbose=False)\n",
    "    if obj[\"NDF\"]==df:\n",
    "        chi2.append(obj[\"Chi2\"])"
   ]
  },
  {
   "cell_type": "code",
   "execution_count": null,
   "metadata": {},
   "outputs": [],
   "source": [
    "# 描画\n",
    "plt.hist(chi2,bins=50,range=[0,100],density=True, histtype='step')\n",
    "plt.title(r\"$\\chi^2$ Distribution of $\\nu$ = {}\".format(df))\n",
    "plt.xlabel(r\"$\\chi^2$\")\n",
    "plt.ylabel(r\"Probability\")\n",
    "plt.xlim(0,100)\n",
    "\n",
    "x = np.linspace(scipy.stats.chi2.ppf(0.01, df),scipy.stats.chi2.ppf(0.99, df), 100)\n",
    "plt.plot(x, scipy.stats.chi2.pdf(x, df),'r-', alpha=0.6, label='chi2 pdf 0.01-0.99')\n",
    "plt.legend()\n",
    "plt.show()"
   ]
  },
  {
   "cell_type": "code",
   "execution_count": null,
   "metadata": {},
   "outputs": [],
   "source": []
  }
 ],
 "metadata": {
  "kernelspec": {
   "display_name": "Python 3",
   "language": "python",
   "name": "python3"
  },
  "language_info": {
   "codemirror_mode": {
    "name": "ipython",
    "version": 3
   },
   "file_extension": ".py",
   "mimetype": "text/x-python",
   "name": "python",
   "nbconvert_exporter": "python",
   "pygments_lexer": "ipython3",
   "version": "3.7.3"
  }
 },
 "nbformat": 4,
 "nbformat_minor": 4
}
