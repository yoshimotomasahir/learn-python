{
 "cells": [
  {
   "cell_type": "markdown",
   "metadata": {},
   "source": [
    "より実践的な話をしよう"
   ]
  },
  {
   "cell_type": "markdown",
   "metadata": {},
   "source": [
    "### ベーストラックのバイナリdumpファイルを読む\n",
    "\n",
    "ベーストラックのバイナリdumpファイルは、C++の形式だと次のように記述されている\n",
    "\n",
    "```cpp\n",
    "// base track\n",
    "double ax, ay, x, y, z;\n",
    "int pl, isg, zone, dmy;\n",
    "int64_t rawid;\n",
    "// micro track 1\n",
    "double ax1 ay1 z1;\n",
    "int ph1, pos1, col1, row1, zone1, isg1;\n",
    "int64_t rawid1;\n",
    "// micro track 2\n",
    "double ax2 ay2 z2;\n",
    "int ph2, pos2, col2, row2, zone2, isg2;\n",
    "int64_t rawid2;\n",
    "```\n",
    "参照 https://gitlab.com/kkodama/NETSCAN-documents/blob/master/vxx-reader.md\n",
    "\n",
    "Pythonでは、doubleは \"d\" intは \"i\" int64_t は \"q\" なので、ベーストラックの構造体は \"dddddiiiiqdddiiiiiiqdddiiiiiiq\" と表される"
   ]
  },
  {
   "cell_type": "code",
   "execution_count": null,
   "metadata": {},
   "outputs": [],
   "source": [
    "import struct\n",
    "import matplotlib.pyplot as plt\n",
    "\n",
    "#dはdouble\n",
    "#iは32bit signed int\n",
    "#qは64bit signed int\n",
    "struct_fmt = 'dddddiiiiqdddiiiiiiqdddiiiiiiq'\n",
    "struct_len = struct.calcsize(struct_fmt)\n",
    "struct_unpack = struct.Struct(struct_fmt).unpack_from\n",
    "\n",
    "# 読み込む\n",
    "def read_bbt(file_name):\n",
    "    datas = []\n",
    "    with open(file_name, \"rb\") as f:\n",
    "        while True:\n",
    "            data = f.read(struct_len)\n",
    "            if not data: break\n",
    "            datas.append(data)\n",
    "    return datas\n",
    "\n",
    "# 出力する\n",
    "def write_bbt(file_name, datas):\n",
    "    with open(file_name, \"wb\") as f: \n",
    "        for data in datas:\n",
    "            f.write(data)\n",
    "\n",
    "# ファイルの読み込み\n",
    "datas1= read_bbt(\"b001.bbt\")\n",
    "print(\"# of tracks = \",len(datas1))\n",
    "\n",
    "# ファイルの出力\n",
    "write_bbt(\"b001-.bbt\", datas1)\n"
   ]
  },
  {
   "cell_type": "markdown",
   "metadata": {},
   "source": [
    "#### リスト生成の文法\n",
    "\n",
    "```python\n",
    "vx1 = []\n",
    "for data in datas1:\n",
    "    vx1.append(struct_unpack(data)[2])\n",
    "```\n",
    "と\n",
    "```python\n",
    "vx1 = [struct_unpack(data)[2] for data in datas1]\n",
    "```\n",
    "は同じ意味になる。行数を減らせるので、次のコードで使う。"
   ]
  },
  {
   "cell_type": "code",
   "execution_count": null,
   "metadata": {},
   "outputs": [],
   "source": [
    "# XYの飛跡密度分布を描画\n",
    "vx1 = [struct_unpack(data)[2] for data in datas1]\n",
    "vy1 = [struct_unpack(data)[3] for data in datas1]\n",
    "plt.hist2d(vx1,vy1, bins=[20,20])\n",
    "plt.colorbar()\n",
    "plt.title(\"X-Y\")\n",
    "plt.show()\n",
    "\n",
    "# AX-AYの飛跡密度分布を描画\n",
    "vax1 = [struct_unpack(data)[0] for data in datas1]\n",
    "vay1 = [struct_unpack(data)[1] for data in datas1]\n",
    "plt.hist2d(vax1,vay1, bins=[100,100],range=[[-0.1,0.1],[-0.1,0.1]])\n",
    "plt.colorbar()\n",
    "plt.title(\"AX-AY\")\n",
    "plt.show()\n",
    "\n",
    "# PHV分布\n",
    "vphv = [(struct_unpack(data)[13]+struct_unpack(data)[23])%10000 for data in datas1]\n",
    "plt.hist(vphv,range=[0,200],bins=100)\n",
    "plt.title(\"PHV\")\n",
    "plt.show()\n",
    "\n",
    "# PH分布\n",
    "vph = [(struct_unpack(data)[13]+struct_unpack(data)[23])//10000 for data in datas1]\n",
    "plt.hist(vph,range=[0,33],bins=33)\n",
    "plt.title(\"PH\")\n",
    "plt.show()\n"
   ]
  }
 ],
 "metadata": {
  "kernelspec": {
   "display_name": "Python 3",
   "language": "python",
   "name": "python3"
  },
  "language_info": {
   "codemirror_mode": {
    "name": "ipython",
    "version": 3
   },
   "file_extension": ".py",
   "mimetype": "text/x-python",
   "name": "python",
   "nbconvert_exporter": "python",
   "pygments_lexer": "ipython3",
   "version": "3.7.3"
  }
 },
 "nbformat": 4,
 "nbformat_minor": 2
}
