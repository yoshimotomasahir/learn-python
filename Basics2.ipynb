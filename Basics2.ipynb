{
 "cells": [
  {
   "cell_type": "markdown",
   "metadata": {},
   "source": [
    "## 小数の話"
   ]
  },
  {
   "cell_type": "code",
   "execution_count": null,
   "metadata": {},
   "outputs": [],
   "source": [
    "print(1)\n",
    "print(0.5)\n",
    "print(0.1)"
   ]
  },
  {
   "cell_type": "markdown",
   "metadata": {},
   "source": [
    "### 小数の仕組み\n",
    "\n",
    "参照: 浮動小数点演算、その問題と制限\n",
    "https://docs.python.org/ja/3.8/tutorial/floatingpoint.html"
   ]
  },
  {
   "cell_type": "code",
   "execution_count": null,
   "metadata": {},
   "outputs": [],
   "source": [
    "if 0.5+0.5 == 1:\n",
    "    print(\"0.5+0.5 == 1\")\n",
    "else:\n",
    "    print(\"0.5+0.5 != 1\")\n",
    "\n",
    "if 0.1+0.1+0.1 == 0.3:\n",
    "    print(\"0.1+0.1+0.1 == 0.3\")\n",
    "else:\n",
    "    print(\"0.1+0.1+0.1 != 0.3\")"
   ]
  },
  {
   "cell_type": "markdown",
   "metadata": {},
   "source": [
    "### 一般的なデータ型に関する説明\n",
    "0.  bool     真偽値\n",
    "1.  8bit int 符号有り・無し      (C++ではchar)\n",
    "2. 16bit int 符号有り・無し      (C++ではshortとも)\n",
    "3. 32bit int 符号有り・無し      (C++ではintとも)\n",
    "4. 64bit int 符号有り・無し      (C++ではlong longとも)\n",
    "5. 32bit float 単精度浮動小数点数\n",
    "6. 64bit float 倍精度浮動小数点数 (C++ではdouble、pythonではfloat)\n",
    "\n",
    "integer: 整数\n",
    "float  : 小数 (本来は小数点の位置が浮動する型なので、プログラミングの世界では浮動小数点数と呼ばれる)\n",
    "\n",
    "符号あり 32bit intのが表せる最大値は、2^31-1=約20億、最小値は -2^31=約-20億 である\n",
    "ただし、pythonの整数値に上限、下限はない。"
   ]
  },
  {
   "cell_type": "markdown",
   "metadata": {},
   "source": [
    "### 次のソースコードで必要になる知識\n",
    "\n",
    "struct.pack struct.unpackの指定\n",
    "* \"Q\": unsigned long long\n",
    "* \"d\": double\n",
    "* \">\": ビッグエンディアン (??)\n",
    "* \"<\": リトルエンディアン (Windows OS,現在のMac OS, Linux OS)\n",
    "\n",
    "参照: https://docs.python.org/ja/3/library/struct.html\n",
    "\n",
    "str.format()の指定\n",
    "* \"b\": 2進数\n",
    "\n",
    "参照: https://docs.python.org/ja/3/library/string.html\n",
    "\n",
    "小数がどのように表されているか確認する"
   ]
  },
  {
   "cell_type": "code",
   "execution_count": null,
   "metadata": {},
   "outputs": [],
   "source": [
    "import struct\n",
    "# 倍精度浮動小数点数を2進数表記する\n",
    "def float_to_bin(value):\n",
    "    [d] = struct.unpack(\"Q\", struct.pack(\"d\", value))\n",
    "    s = '{:064b}'.format(d)\n",
    "    return s[0]+\"-\"+s[1:12]+\"-\"+s[12:]\n",
    "\n",
    "print(\"0.0 = \",float_to_bin(0.0))\n",
    "print(\"-0.0= \",float_to_bin(-0.0))\n",
    "print(\"1.0 = \",float_to_bin(1.0))\n",
    "print(\"0.5 = \",float_to_bin(0.5))\n",
    "print(\"2.0 = \",float_to_bin(2.0))\n",
    "print(\"-2.0= \",float_to_bin(-2.0))\n",
    "\n",
    "print()\n",
    "\n",
    "print(\"0.1         = \",float_to_bin(0.1))\n",
    "print(\"0.1+0.1+0.1 = \",float_to_bin(0.1+0.1+0.1))\n",
    "print(\"0.3         = \",float_to_bin(0.3))\n"
   ]
  },
  {
   "cell_type": "markdown",
   "metadata": {},
   "source": [
    "バイナリ形式のメリット・・・\n",
    "1. ファイルIOが高速になる\n",
    "2. 正しく書けばファイルサイズは小さくなる\n",
    "\n",
    "バイナリ形式のデメリット・・・\n",
    "1. 可読性は高くない\n",
    "2. フォーマットを残しておかないとデータを読み込めない\n",
    "3. エンディアン・データ型・クラス等を理解しておかないと思わぬバグを生む\n",
    "\n",
    "とにかく、バイナリデータを書き出してみよう。\n",
    "次の例では、倍精度浮動小数点数"
   ]
  },
  {
   "cell_type": "code",
   "execution_count": null,
   "metadata": {},
   "outputs": [],
   "source": [
    "import struct\n",
    "value = 10.0\n",
    "file_name = \"test2.dat\"\n",
    "with open(file_name, \"wb\") as f: \n",
    "    f.write(struct.pack(\"d\", value))"
   ]
  },
  {
   "cell_type": "markdown",
   "metadata": {},
   "source": [
    "次に、バイナリデータを読み込んでみよう。"
   ]
  },
  {
   "cell_type": "code",
   "execution_count": null,
   "metadata": {},
   "outputs": [],
   "source": [
    "import struct\n",
    "\n",
    "# 倍精度浮動小数点数\n",
    "with open(file_name, \"rb\") as f:\n",
    "    data = f.read(8)\n",
    "    value = struct.unpack(\"d\", data)\n",
    "print(\"double:  \", value[0])\n",
    "\n",
    "# 単精度浮動小数点数\n",
    "with open(file_name, \"rb\") as f:\n",
    "    data = f.read(4)\n",
    "    value = struct.unpack(\"f\", data)\n",
    "print(\"float:   \", value[0])\n",
    "\n",
    "# 符号なし64bit整数\n",
    "with open(file_name, \"rb\") as f:\n",
    "    data = f.read(8)\n",
    "    value = struct.unpack(\"Q\", data)\n",
    "print(\"uint64_t:\", value[0])"
   ]
  },
  {
   "cell_type": "markdown",
   "metadata": {},
   "source": [
    "倍精度浮動小数点数として出力したとしても、単精度浮動小数点数や符号なし64bit整数としても読み込むことは可能。\n",
    "\n",
    "ゆえに、バイナリ形式ではデータ型を正しく理解しておくことが重要になる。"
   ]
  }
 ],
 "metadata": {
  "kernelspec": {
   "display_name": "Python 3",
   "language": "python",
   "name": "python3"
  },
  "language_info": {
   "codemirror_mode": {
    "name": "ipython",
    "version": 3
   },
   "file_extension": ".py",
   "mimetype": "text/x-python",
   "name": "python",
   "nbconvert_exporter": "python",
   "pygments_lexer": "ipython3",
   "version": "3.7.3"
  }
 },
 "nbformat": 4,
 "nbformat_minor": 2
}
