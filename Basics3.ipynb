{
 "cells": [
  {
   "cell_type": "markdown",
   "metadata": {},
   "source": [
    "## OpenCVの使い方\n",
    "\n",
    "まず、numpyとopencvとmatplotlibをimportする。\n",
    "最後の行は、jupyter特有の設定です\n",
    "\n",
    "```python\n",
    "import numpy as np\n",
    "import cv2\n",
    "from matplotlib import pyplot as plt\n",
    "%matplotlib inline\n",
    "```\n",
    "\n",
    "横90ピクセル、縦60ピクセル、3色の画像を作り表示させる。\n",
    "\n",
    "```python\n",
    "size = 60, 90, 3\n",
    "img = np.zeros(size, dtype=np.uint8)\n",
    "plt.figure()\n",
    "plt.imshow(img)\n",
    "```\n",
    "\n",
    "次のボックス内で「Shift+Enter」をして、画像が表示されることを確認しよう"
   ]
  },
  {
   "cell_type": "code",
   "execution_count": null,
   "metadata": {},
   "outputs": [],
   "source": [
    "import numpy as np\n",
    "import cv2\n",
    "from matplotlib import pyplot as plt\n",
    "%matplotlib inline\n",
    "\n",
    "size = 60, 90, 3\n",
    "img = np.zeros(size, dtype=np.uint8)\n",
    "plt.figure()\n",
    "plt.imshow(img)"
   ]
  },
  {
   "cell_type": "markdown",
   "metadata": {},
   "source": [
    "## OpenCVの使い方を習得する\n",
    "* 白い長方形の画像を生成。\n",
    "* 日の丸をかく。\n",
    "* フランス国旗を作る。"
   ]
  },
  {
   "cell_type": "code",
   "execution_count": null,
   "metadata": {},
   "outputs": [],
   "source": [
    "import numpy as np\n",
    "import cv2\n",
    "from matplotlib import pyplot as plt\n",
    "%matplotlib inline\n",
    "\n",
    "size = 60, 90, 3\n",
    "img = np.ones(size, dtype=np.uint8)\n",
    "img *= 255\n",
    "plt.figure()\n",
    "plt.imshow(img)\n",
    "\n",
    "cv2.circle(img,(45,30),15,(255,0,0),-1)\n",
    "plt.figure()\n",
    "plt.imshow(img)\n",
    "\n",
    "cv2.rectangle(img,(0, 0), (30, 60), (0, 0, 255), -1)\n",
    "cv2.rectangle(img,(30, 0), (60, 60), (255, 255, 255), -1)\n",
    "cv2.rectangle(img,(60, 0), (90, 60), (255, 0, 0), -1)\n",
    "plt.figure()\n",
    "plt.imshow(img)"
   ]
  },
  {
   "cell_type": "markdown",
   "metadata": {},
   "source": [
    "## ガウシアンぼかしと入出力\n",
    "* 画像「sample.png」を読み込んで文字を書き込み保存する。\n",
    "* 画像を読み込んでぼかす。ぼかしのレベル10段階ぐらい変えながら表示させてみましょう"
   ]
  },
  {
   "cell_type": "code",
   "execution_count": null,
   "metadata": {},
   "outputs": [],
   "source": [
    "import numpy as np\n",
    "import cv2\n",
    "from matplotlib import pyplot as plt\n",
    "%matplotlib inline\n",
    "\n",
    "img = cv2.imread(\"sample.png\")\n",
    "cv2.imwrite(\"sample2.png\",img)\n",
    "plt.figure()\n",
    "plt.title(\"元画像\")\n",
    "plt.imshow(img)\n",
    "\n",
    "for kernel in range(1,21,2):\n",
    "    dst = cv2.GaussianBlur(img,(kernel,kernel),3)\n",
    "    cv2.imwrite(\"gaussian-k{}.png\".format(kernel),dst)\n",
    "    plt.figure()\n",
    "    plt.title(\"Kernel size = {}\".format(kernel))\n",
    "    plt.imshow(dst)"
   ]
  },
  {
   "cell_type": "markdown",
   "metadata": {},
   "source": [
    "## 反転回転操作編\n",
    "* 先程の「sample.png」を読み込み「G」という文字を描きましょう（非対称な文字ならなんでもいい）\n",
    "* この画像を、\n",
    "* 左右反転してみましょう\n",
    "* 上下反転してみましょう\n",
    "* 時計回り（反時計回り）してみましょう"
   ]
  },
  {
   "cell_type": "code",
   "execution_count": null,
   "metadata": {},
   "outputs": [],
   "source": [
    "import numpy as np\n",
    "import cv2\n",
    "from matplotlib import pyplot as plt\n",
    "%matplotlib inline\n",
    "\n",
    "img = cv2.imread(\"sample.png\")\n",
    "dst = cv2.putText(img,\"G\",(100,200),cv2.FONT_HERSHEY_PLAIN,10,(0,0,0),10)\n",
    "plt.figure()\n",
    "plt.title(\"元画像\")\n",
    "plt.imshow(dst)\n",
    "\n",
    "dst = cv2.flip(img,0)\n",
    "plt.figure()\n",
    "plt.title(\"上下反転\")\n",
    "plt.imshow(dst)\n",
    "\n",
    "dst = cv2.flip(img,1)\n",
    "plt.figure()\n",
    "plt.title(\"左右反転\")\n",
    "plt.imshow(dst)\n",
    "\n",
    "dst = cv2.flip(img,-1)\n",
    "plt.figure()\n",
    "plt.title(\"左右反転と上下反転=180度回転\")\n",
    "plt.imshow(dst)\n",
    "\n",
    "height = img.shape[0]\n",
    "width = img.shape[1]\n",
    "center = (int(width/2), int(height/2))\n",
    "angle = 45.0\n",
    "scale = 1.0\n",
    "trans = cv2.getRotationMatrix2D(center, angle , scale)\n",
    "dst = cv2.warpAffine(img, trans, (width,height))\n",
    "plt.figure()\n",
    "plt.title(\"45度回転\")\n",
    "plt.imshow(dst)\n",
    "\n",
    "angle = -45.0\n",
    "trans = cv2.getRotationMatrix2D(center, angle , scale)\n",
    "dst = cv2.warpAffine(img, trans, (width,height))\n",
    "plt.figure()\n",
    "plt.title(\"-45度回転\")\n",
    "plt.imshow(dst)"
   ]
  },
  {
   "cell_type": "markdown",
   "metadata": {},
   "source": [
    "## 輝度編\n",
    "* 1辺256pixの正方形をつくりましょう\n",
    "* 左端が黒で、右端が白で、その間がグラデーションになるような画像を作りましょう\n",
    "* (左白、右黒)\n",
    "* (上白、下黒)、(上黒、下白)"
   ]
  },
  {
   "cell_type": "code",
   "execution_count": null,
   "metadata": {},
   "outputs": [],
   "source": [
    "import numpy as np\n",
    "import cv2\n",
    "from matplotlib import pyplot as plt\n",
    "%matplotlib inline\n",
    "\n",
    "size = 256, 256, 3\n",
    "img = np.zeros(size, dtype=np.uint8)\n",
    "plt.figure()\n",
    "plt.imshow(img)\n",
    "\n",
    "# 以降は自分で頑張ってみよう"
   ]
  },
  {
   "cell_type": "markdown",
   "metadata": {},
   "source": [
    "## 閾値処理編\n",
    "* 輝度がX以下なら黒、それ以上なら白\n",
    "* 輝度がX以下なら黒、それ以上は普通\n"
   ]
  },
  {
   "cell_type": "markdown",
   "metadata": {},
   "source": [
    "## 画像同士の演算編\n",
    "形が同じ画像同士で、\n",
    "* 加減算\n",
    "* マスク処理"
   ]
  },
  {
   "cell_type": "code",
   "execution_count": null,
   "metadata": {},
   "outputs": [],
   "source": []
  },
  {
   "cell_type": "markdown",
   "metadata": {},
   "source": [
    "## 行列演算編\n",
    "画像は行列と同じですね。というわけで適当に3x3行列を作ってみて、\n",
    "* 逆行列を求める\n",
    "* 逆行列掛けて単位行列にする\n",
    "* 転置行列にする\n",
    "* 適当な行列同士の積を求める\n",
    "\n",
    "これらを手計算と比較"
   ]
  },
  {
   "cell_type": "code",
   "execution_count": null,
   "metadata": {},
   "outputs": [],
   "source": []
  }
 ],
 "metadata": {
  "kernelspec": {
   "display_name": "Python 3",
   "language": "python",
   "name": "python3"
  },
  "language_info": {
   "codemirror_mode": {
    "name": "ipython",
    "version": 3
   },
   "file_extension": ".py",
   "mimetype": "text/x-python",
   "name": "python",
   "nbconvert_exporter": "python",
   "pygments_lexer": "ipython3",
   "version": "3.7.3"
  }
 },
 "nbformat": 4,
 "nbformat_minor": 2
}
