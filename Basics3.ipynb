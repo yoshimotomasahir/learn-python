{
 "cells": [
  {
   "cell_type": "markdown",
   "metadata": {},
   "source": [
    "## OpenCVの使い方\n",
    "\n",
    "まず、numpyとopencvとmatplotlibをimportする。\n",
    "最後の行は、jupyter特有の設定です\n",
    "\n",
    "```python\n",
    "import numpy as np\n",
    "import cv2\n",
    "from matplotlib import pyplot as plt\n",
    "%matplotlib inline\n",
    "```\n",
    "\n",
    "横90ピクセル、縦60ピクセル、3色の画像を作り表示させる。\n",
    "\n",
    "```python\n",
    "size = 60, 90, 3\n",
    "img = np.zeros(size, dtype=np.uint8)\n",
    "plt.imshow(img)\n",
    "```\n",
    "\n",
    "次のボックス内で「Shift+Enter」をして、画像が表示されることを確認しよう"
   ]
  },
  {
   "cell_type": "code",
   "execution_count": null,
   "metadata": {},
   "outputs": [],
   "source": [
    "import numpy as np\n",
    "import cv2\n",
    "from matplotlib import pyplot as plt\n",
    "%matplotlib inline\n",
    "\n",
    "size = 60, 90, 3\n",
    "img = np.zeros(size, dtype=np.uint8)\n",
    "plt.imshow(img)"
   ]
  },
  {
   "cell_type": "markdown",
   "metadata": {},
   "source": [
    "## OpenCVの使い方を習得する\n",
    "1. 白い長方形の画像を生成。\n",
    "2. 日の丸をかく。\n",
    "3. フランス国旗を作る。\n"
   ]
  },
  {
   "cell_type": "code",
   "execution_count": null,
   "metadata": {},
   "outputs": [],
   "source": []
  },
  {
   "cell_type": "markdown",
   "metadata": {},
   "source": [
    "## ガウシアンぼかしと入出力\n",
    "* 画像「sample.png」を読み込んで文字を書き込み保存する。\n",
    "* 画像を読み込んでぼかす。ぼかしのレベル10段階ぐらい変えながら名前をつけて保存する。"
   ]
  },
  {
   "cell_type": "code",
   "execution_count": null,
   "metadata": {},
   "outputs": [],
   "source": []
  },
  {
   "cell_type": "markdown",
   "metadata": {},
   "source": [
    "## 反転回転操作編\n",
    "* 画像に「G」という文字を描きましょう（非対称な文字ならなんでもいい）\n",
    "* この画像を、\n",
    "* 左右反転してみましょう\n",
    "* 上下反転してみましょう\n",
    "* 時計回り（反時計回り）してみましょう\n",
    "* で、保存しましょう"
   ]
  },
  {
   "cell_type": "code",
   "execution_count": null,
   "metadata": {},
   "outputs": [],
   "source": []
  },
  {
   "cell_type": "markdown",
   "metadata": {},
   "source": [
    "## 輝度編\n",
    "* 1辺256pixの正方形をつくりましょう\n",
    "* 左端が黒で、右端が白で、その間がグラデーションになるような画像を作りましょう\n",
    "* (左白、右黒)\n",
    "* (上白、下黒)、(上黒、下白)\n"
   ]
  },
  {
   "cell_type": "code",
   "execution_count": null,
   "metadata": {},
   "outputs": [],
   "source": []
  },
  {
   "cell_type": "markdown",
   "metadata": {},
   "source": [
    "## 閾値処理編\n",
    "* 輝度がX以下なら黒、それ以上なら白\n",
    "* 輝度がX以下なら黒、それ以上は普通\n"
   ]
  },
  {
   "cell_type": "markdown",
   "metadata": {},
   "source": [
    "## 画像同士の演算編\n",
    "形が同じ画像同士で、\n",
    "* 加減算\n",
    "* マスク処理"
   ]
  },
  {
   "cell_type": "code",
   "execution_count": null,
   "metadata": {},
   "outputs": [],
   "source": []
  },
  {
   "cell_type": "markdown",
   "metadata": {},
   "source": [
    "## 行列演算編\n",
    "画像は行列と同じですね。というわけで適当に3x3行列を作ってみて、\n",
    "* 逆行列を求める\n",
    "* 逆行列掛けて単位行列にする\n",
    "* 転置行列にする\n",
    "* 適当な行列同士の積を求める\n",
    "\n",
    "これらを手計算と比較"
   ]
  },
  {
   "cell_type": "code",
   "execution_count": null,
   "metadata": {},
   "outputs": [],
   "source": []
  }
 ],
 "metadata": {
  "kernelspec": {
   "display_name": "Python 3",
   "language": "python",
   "name": "python3"
  },
  "language_info": {
   "codemirror_mode": {
    "name": "ipython",
    "version": 3
   },
   "file_extension": ".py",
   "mimetype": "text/x-python",
   "name": "python",
   "nbconvert_exporter": "python",
   "pygments_lexer": "ipython3",
   "version": "3.7.3"
  }
 },
 "nbformat": 4,
 "nbformat_minor": 2
}
